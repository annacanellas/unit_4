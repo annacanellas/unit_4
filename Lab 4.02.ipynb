{
 "cells": [
  {
   "cell_type": "markdown",
   "id": "23a4a48e-10ba-45e8-8c18-6d7460812c55",
   "metadata": {},
   "source": [
    "LAB 4.02"
   ]
  },
  {
   "cell_type": "markdown",
   "id": "16a21291-775b-4ed9-9808-3a8ff781f442",
   "metadata": {},
   "source": [
    "1. Import the necessary libraries if you are starting a new notebook."
   ]
  },
  {
   "cell_type": "code",
   "execution_count": 1,
   "id": "fe0cbe6b-28fe-44db-af4f-105087c9e201",
   "metadata": {},
   "outputs": [],
   "source": [
    "import pandas as pd\n",
    "import numpy as np\n",
    "pd.set_option('display.max_columns', None)\n",
    "import matplotlib.pyplot as plt\n",
    "import seaborn as sns\n",
    "  \n",
    "%matplotlib inline"
   ]
  },
  {
   "cell_type": "markdown",
   "id": "906bad4b-5122-4e8f-9b4a-5aa1e08ae0a0",
   "metadata": {},
   "source": [
    "2. Load the csv. Use the variable customer_df as customer_df = pd.read_csv()\n",
    "\n",
    "3. What should we do with the customer_id column? We should delete it as it is only a unique identifier for each row in the data. You can relate this to the primary key in a table in SQL\n",
    "\n",
    "4. Load the continuous and discrete variables into numericals_df and categorical_df variables, for eg."
   ]
  },
  {
   "cell_type": "code",
   "execution_count": 2,
   "id": "dd05e831-dcb9-46e3-a03e-63f41ed4553c",
   "metadata": {},
   "outputs": [
    {
     "ename": "NameError",
     "evalue": "name 'customer_df' is not defined",
     "output_type": "error",
     "traceback": [
      "\u001b[1;31m---------------------------------------------------------------------------\u001b[0m",
      "\u001b[1;31mNameError\u001b[0m                                 Traceback (most recent call last)",
      "Input \u001b[1;32mIn [2]\u001b[0m, in \u001b[0;36m<cell line: 1>\u001b[1;34m()\u001b[0m\n\u001b[1;32m----> 1\u001b[0m numerical_df \u001b[38;5;241m=\u001b[39m \u001b[43mcustomer_df\u001b[49m\u001b[38;5;241m.\u001b[39mselect_dtypes()\n\u001b[0;32m      2\u001b[0m categorical_df \u001b[38;5;241m=\u001b[39m customer_df\u001b[38;5;241m.\u001b[39mselect_dtypes()\n",
      "\u001b[1;31mNameError\u001b[0m: name 'customer_df' is not defined"
     ]
    }
   ],
   "source": [
    "numerical_df = customer_df.select_dtypes()\n",
    "categorical_df = customer_df.select_dtypes()"
   ]
  },
  {
   "cell_type": "code",
   "execution_count": 3,
   "id": "2c7a129b-0594-484e-82a7-895fa38da3c4",
   "metadata": {},
   "outputs": [
    {
     "ename": "NameError",
     "evalue": "name 'customer_df' is not defined",
     "output_type": "error",
     "traceback": [
      "\u001b[1;31m---------------------------------------------------------------------------\u001b[0m",
      "\u001b[1;31mNameError\u001b[0m                                 Traceback (most recent call last)",
      "Input \u001b[1;32mIn [3]\u001b[0m, in \u001b[0;36m<cell line: 1>\u001b[1;34m()\u001b[0m\n\u001b[1;32m----> 1\u001b[0m numerical_df \u001b[38;5;241m=\u001b[39m \u001b[43mcustomer_df\u001b[49m\u001b[38;5;241m.\u001b[39mselect_dtypes(np\u001b[38;5;241m.\u001b[39mnumber)\n\u001b[0;32m      2\u001b[0m categorical_df \u001b[38;5;241m=\u001b[39m customer_df\u001b[38;5;241m.\u001b[39mselect_dtypes(np\u001b[38;5;241m.\u001b[39mobject)\n",
      "\u001b[1;31mNameError\u001b[0m: name 'customer_df' is not defined"
     ]
    }
   ],
   "source": [
    "numerical_df = customer_df.select_dtypes(np.number)\n",
    "categorical_df = customer_df.select_dtypes(np.object)"
   ]
  },
  {
   "cell_type": "markdown",
   "id": "76e7f1e3-0891-4cce-b572-9d2545ba26a3",
   "metadata": {},
   "source": [
    "5. Plot every categorical variable. What can you see in the plots? Note that in the previous lab you used a bar plot to plot categorical data, with each unique category in the column on the x-axis and an appropriate measure on the y-axis. However, this time you will try a different plot. This time in each plot for the categorical variable you will have, each unique category in the column on the x-axis and the target(which is numerical) on the Y-axis"
   ]
  },
  {
   "cell_type": "code",
   "execution_count": 9,
   "id": "e943883c-42f3-4fdd-a71a-ccd9b8c95354",
   "metadata": {},
   "outputs": [],
   "source": [
    "data = pd.read_csv('./files_for_lesson_and_activities/unit4.csv')"
   ]
  },
  {
   "cell_type": "code",
   "execution_count": 10,
   "id": "a496c209-1074-4db1-b4d0-98051b29db40",
   "metadata": {},
   "outputs": [
    {
     "name": "stderr",
     "output_type": "stream",
     "text": [
      "C:\\Users\\SL241YM\\AppData\\Local\\Temp\\ipykernel_12620\\1940378060.py:1: DeprecationWarning: `np.object` is a deprecated alias for the builtin `object`. To silence this warning, use `object` by itself. Doing this will not modify any behavior and is safe. \n",
      "Deprecated in NumPy 1.20; for more details and guidance: https://numpy.org/devdocs/release/1.20.0-notes.html#deprecations\n",
      "  categoricals = data.select_dtypes(np.object)\n"
     ]
    },
    {
     "data": {
      "text/html": [
       "<div>\n",
       "<style scoped>\n",
       "    .dataframe tbody tr th:only-of-type {\n",
       "        vertical-align: middle;\n",
       "    }\n",
       "\n",
       "    .dataframe tbody tr th {\n",
       "        vertical-align: top;\n",
       "    }\n",
       "\n",
       "    .dataframe thead th {\n",
       "        text-align: right;\n",
       "    }\n",
       "</style>\n",
       "<table border=\"1\" class=\"dataframe\">\n",
       "  <thead>\n",
       "    <tr style=\"text-align: right;\">\n",
       "      <th></th>\n",
       "      <th>STATE</th>\n",
       "      <th>PVASTATE</th>\n",
       "      <th>MDMAUD</th>\n",
       "      <th>RECP3</th>\n",
       "      <th>GENDER</th>\n",
       "      <th>DOMAIN</th>\n",
       "      <th>HOMEOWNR</th>\n",
       "      <th>VETERANS</th>\n",
       "      <th>RFA_2</th>\n",
       "    </tr>\n",
       "  </thead>\n",
       "  <tbody>\n",
       "    <tr>\n",
       "      <th>0</th>\n",
       "      <td>IL</td>\n",
       "      <td>NaN</td>\n",
       "      <td>XXXX</td>\n",
       "      <td>NaN</td>\n",
       "      <td>F</td>\n",
       "      <td>T2</td>\n",
       "      <td>NaN</td>\n",
       "      <td>NaN</td>\n",
       "      <td>L4E</td>\n",
       "    </tr>\n",
       "    <tr>\n",
       "      <th>1</th>\n",
       "      <td>CA</td>\n",
       "      <td>NaN</td>\n",
       "      <td>XXXX</td>\n",
       "      <td>NaN</td>\n",
       "      <td>M</td>\n",
       "      <td>S1</td>\n",
       "      <td>H</td>\n",
       "      <td>NaN</td>\n",
       "      <td>L2G</td>\n",
       "    </tr>\n",
       "    <tr>\n",
       "      <th>2</th>\n",
       "      <td>NC</td>\n",
       "      <td>NaN</td>\n",
       "      <td>XXXX</td>\n",
       "      <td>NaN</td>\n",
       "      <td>M</td>\n",
       "      <td>R2</td>\n",
       "      <td>U</td>\n",
       "      <td>NaN</td>\n",
       "      <td>L4E</td>\n",
       "    </tr>\n",
       "    <tr>\n",
       "      <th>3</th>\n",
       "      <td>CA</td>\n",
       "      <td>NaN</td>\n",
       "      <td>XXXX</td>\n",
       "      <td>NaN</td>\n",
       "      <td>F</td>\n",
       "      <td>R2</td>\n",
       "      <td>U</td>\n",
       "      <td>NaN</td>\n",
       "      <td>L4E</td>\n",
       "    </tr>\n",
       "    <tr>\n",
       "      <th>4</th>\n",
       "      <td>FL</td>\n",
       "      <td>NaN</td>\n",
       "      <td>XXXX</td>\n",
       "      <td>X</td>\n",
       "      <td>F</td>\n",
       "      <td>S2</td>\n",
       "      <td>H</td>\n",
       "      <td>NaN</td>\n",
       "      <td>L2F</td>\n",
       "    </tr>\n",
       "  </tbody>\n",
       "</table>\n",
       "</div>"
      ],
      "text/plain": [
       "  STATE PVASTATE MDMAUD RECP3 GENDER DOMAIN HOMEOWNR VETERANS RFA_2\n",
       "0    IL      NaN   XXXX   NaN      F     T2      NaN      NaN   L4E\n",
       "1    CA      NaN   XXXX   NaN      M     S1        H      NaN   L2G\n",
       "2    NC      NaN   XXXX   NaN      M     R2        U      NaN   L4E\n",
       "3    CA      NaN   XXXX   NaN      F     R2        U      NaN   L4E\n",
       "4    FL      NaN   XXXX     X      F     S2        H      NaN   L2F"
      ]
     },
     "execution_count": 10,
     "metadata": {},
     "output_type": "execute_result"
    }
   ],
   "source": [
    "categoricals = data.select_dtypes(np.object)\n",
    "categoricals.head()"
   ]
  },
  {
   "cell_type": "code",
   "execution_count": 11,
   "id": "df99af1c-b494-4f87-bf7d-481ee916f18a",
   "metadata": {},
   "outputs": [
    {
     "ename": "NameError",
     "evalue": "name 'customer_df' is not defined",
     "output_type": "error",
     "traceback": [
      "\u001b[1;31m---------------------------------------------------------------------------\u001b[0m",
      "\u001b[1;31mNameError\u001b[0m                                 Traceback (most recent call last)",
      "Input \u001b[1;32mIn [11]\u001b[0m, in \u001b[0;36m<cell line: 1>\u001b[1;34m()\u001b[0m\n\u001b[0;32m      1\u001b[0m \u001b[38;5;28;01mfor\u001b[39;00m col \u001b[38;5;129;01min\u001b[39;00m categoricals\u001b[38;5;241m.\u001b[39mcolumns:\n\u001b[1;32m----> 2\u001b[0m    sns\u001b[38;5;241m.\u001b[39mbarplot(x \u001b[38;5;241m=\u001b[39m col, y \u001b[38;5;241m=\u001b[39m \u001b[38;5;124m'\u001b[39m\u001b[38;5;124mtotal_claim_amount\u001b[39m\u001b[38;5;124m'\u001b[39m, data \u001b[38;5;241m=\u001b[39m \u001b[43mcustomer_df\u001b[49m)\n\u001b[0;32m      3\u001b[0m    plt\u001b[38;5;241m.\u001b[39mshow()\n",
      "\u001b[1;31mNameError\u001b[0m: name 'customer_df' is not defined"
     ]
    }
   ],
   "source": [
    "for col in categoricals.columns:\n",
    "   sns.barplot(x = col, y = 'total_claim_amount', data = customer_df)\n",
    "   plt.show()"
   ]
  },
  {
   "cell_type": "markdown",
   "id": "94a63625-d726-4ae0-9364-d2ce1ef9fe12",
   "metadata": {},
   "source": [
    "6. For the categorical data, check if there is any data cleaning that need to perform. Hint: You can use the function value_counts() on each of the categorical columns and check the representation of different categories in each column. Discuss if this information might in some way be used for data cleaning."
   ]
  },
  {
   "cell_type": "code",
   "execution_count": 13,
   "id": "9f69ab9c-b499-48de-8f3b-9bb7d4e34697",
   "metadata": {},
   "outputs": [
    {
     "name": "stdout",
     "output_type": "stream",
     "text": [
      "CA    16284\n",
      "FL     7959\n",
      "TX     7166\n",
      "IL     6124\n",
      "MI     5375\n",
      "NC     3956\n",
      "WA     3383\n",
      "GA     3261\n",
      "IN     2855\n",
      "WI     2656\n",
      "MO     2583\n",
      "TN     2396\n",
      "AZ     2278\n",
      "MN     2081\n",
      "OR     2045\n",
      "CO     1929\n",
      "SC     1660\n",
      "AL     1627\n",
      "OK     1553\n",
      "KY     1542\n",
      "LA     1533\n",
      "KS     1233\n",
      "IA     1214\n",
      "AR      969\n",
      "MS      948\n",
      "NV      923\n",
      "NM      824\n",
      "NE      715\n",
      "UT      546\n",
      "ID      504\n",
      "MT      498\n",
      "HI      423\n",
      "SD      278\n",
      "AK      275\n",
      "WY      267\n",
      "ND      241\n",
      "AP       78\n",
      "NY       70\n",
      "VA       54\n",
      "OH       52\n",
      "PA       36\n",
      "MD       30\n",
      "MA       25\n",
      "NJ       24\n",
      "CT       20\n",
      "AA       15\n",
      "AE       14\n",
      "ME       11\n",
      "NH        8\n",
      "RI        6\n",
      "VT        6\n",
      "VI        5\n",
      "WV        3\n",
      "GU        3\n",
      "DE        3\n",
      "AS        1\n",
      "DC        1\n",
      "Name: STATE, dtype: int64\n",
      "P    1380\n",
      "E       5\n",
      "Name: PVASTATE, dtype: int64\n",
      "XXXX    90290\n",
      "C1CM       59\n",
      "L1CM       44\n",
      "I1CM       34\n",
      "D2CM       27\n",
      "C2CM       23\n",
      "D1CM       19\n",
      "L2CM       14\n",
      "C1LM        8\n",
      "L1LM        8\n",
      "I2CM        7\n",
      "D5CM        5\n",
      "D5MM        5\n",
      "D2MM        4\n",
      "I1LM        3\n",
      "D5TM        3\n",
      "C2MM        3\n",
      "C5CM        3\n",
      "C2LM        2\n",
      "C1MM        1\n",
      "I2MM        1\n",
      "I5CM        1\n",
      "I5MM        1\n",
      "C5MM        1\n",
      "L1MM        1\n",
      "C5TM        1\n",
      "L2TM        1\n",
      "Name: MDMAUD, dtype: int64\n",
      "X    1833\n",
      "Name: RECP3, dtype: int64\n",
      "F    48668\n",
      "M    37132\n",
      "U     1635\n",
      "J      336\n",
      "C        2\n",
      "A        1\n",
      "Name: GENDER, dtype: int64\n",
      "R2    13006\n",
      "T2    11717\n",
      "S1    10866\n",
      "S2     8054\n",
      "C2     7834\n",
      "C1     5793\n",
      "C3     5056\n",
      "T1     4712\n",
      "R3     4572\n",
      "U1     4259\n",
      "U2     3111\n",
      "U3     2484\n",
      "T3     2092\n",
      "S3     1817\n",
      "U4     1735\n",
      "R1     1285\n",
      "Name: DOMAIN, dtype: int64\n",
      "H    49646\n",
      "U    19872\n",
      "Name: HOMEOWNR, dtype: int64\n",
      "Y    9846\n",
      "Name: VETERANS, dtype: int64\n",
      "L1F    29207\n",
      "L1G    12007\n",
      "L2F    10398\n",
      "L3E     7244\n",
      "L2E     4681\n",
      "L1E     4667\n",
      "L4D     4449\n",
      "L2G     4410\n",
      "L4E     3647\n",
      "L3F     3352\n",
      "L3D     2267\n",
      "L4F     1951\n",
      "L3G     1425\n",
      "L4G      864\n",
      "Name: RFA_2, dtype: int64\n"
     ]
    }
   ],
   "source": [
    "for col in categoricals.columns:\n",
    "   print(categoricals[col].value_counts())\n"
   ]
  },
  {
   "cell_type": "markdown",
   "id": "7e396db0-59f6-454d-9407-e056331beb2c",
   "metadata": {},
   "source": [
    "Save data to use in the next lesson 4.03:"
   ]
  },
  {
   "cell_type": "code",
   "execution_count": 14,
   "id": "f8265c7c-c826-422d-b9e4-3dba7558f311",
   "metadata": {},
   "outputs": [],
   "source": [
    "data.drop('Unnamed: 0', axis=1, inplace=True)"
   ]
  },
  {
   "cell_type": "code",
   "execution_count": 15,
   "id": "1caf8ce6-5848-42d3-8f73-7d5f1b428b0a",
   "metadata": {},
   "outputs": [],
   "source": [
    "import pickle\n",
    "with open(\"data.pickle\", 'wb') as fp:\n",
    "    pickle.dump(data, fp)"
   ]
  },
  {
   "cell_type": "code",
   "execution_count": null,
   "id": "c12bd27a-9588-4e63-a830-7ba550706341",
   "metadata": {},
   "outputs": [],
   "source": []
  }
 ],
 "metadata": {
  "kernelspec": {
   "display_name": "Python 3 (ipykernel)",
   "language": "python",
   "name": "python3"
  },
  "language_info": {
   "codemirror_mode": {
    "name": "ipython",
    "version": 3
   },
   "file_extension": ".py",
   "mimetype": "text/x-python",
   "name": "python",
   "nbconvert_exporter": "python",
   "pygments_lexer": "ipython3",
   "version": "3.9.12"
  }
 },
 "nbformat": 4,
 "nbformat_minor": 5
}
